{
 "cells": [
  {
   "cell_type": "code",
   "execution_count": 1,
   "id": "12003112",
   "metadata": {},
   "outputs": [],
   "source": [
    "import pandas as pd\n",
    "import numpy as np\n",
    "import matplotlib.pyplot as plt\n",
    "import random\n",
    "from sklearn.model_selection import train_test_split\n",
    "from sklearn.svm import SVC\n",
    "from sklearn.preprocessing import StandardScaler\n",
    "from sklearn.pipeline import make_pipeline\n",
    "import pickle"
   ]
  },
  {
   "cell_type": "markdown",
   "id": "5a06f125",
   "metadata": {},
   "source": [
    "Different features spaces:\n",
    "1. Statistical\n",
    "2. Frequency domain \n",
    "3. time domain \n",
    "4. waveform features"
   ]
  },
  {
   "cell_type": "markdown",
   "id": "57c1e29c",
   "metadata": {},
   "source": [
    "1. Data Preprocessing:\n",
    "Ensure that your data from the HRV, GSR, and skin temperature sensors are properly cleaned and preprocessed. This may involve handling missing values, normalizing or scaling the data, and removing any outliers.\n",
    "\n",
    "2. Feature Engineering:\n",
    "Extract relevant features from each sensor modality that could be indicative of fatigue. These features could include statistical measures (e.g., mean, standard deviation, skewness), frequency domain features (e.g., spectral power), or time-domain features (e.g., heart rate variability indices).\n",
    "\n",
    "3. Data Combination:\n",
    "Once you have extracted features from each sensor modality, combine them into a single feature matrix. This matrix will serve as the input to your binary classifier.\n",
    "\n",
    "4. Model Selection:\n",
    "Choose an appropriate binary classification model for your task. Since you mentioned using SVM, you can use an SVM classifier to learn the relationship between the combined sensor features and the target variable (fatigue).\n",
    "\n",
    "5. Model Training:\n",
    "Split your combined feature matrix and corresponding labels into training and testing sets. Then, train your SVM classifier on the training data.\n",
    "\n",
    "6. Model Evaluation:\n",
    "Evaluate the performance of your trained classifier using appropriate metrics such as accuracy, precision, recall, F1-score, and ROC-AUC score on the testing set. This will give you an idea of how well your model generalizes to unseen data.\n",
    "\n",
    "7. Deployment:\n",
    "Once you're satisfied with the performance of your classifier, you can deploy it to make predictions on new data obtained from the sensors in real-time."
   ]
  },
  {
   "cell_type": "markdown",
   "id": "4df53754",
   "metadata": {},
   "source": [
    "# Preprocessing"
   ]
  },
  {
   "cell_type": "code",
   "execution_count": 2,
   "id": "8e4535e3",
   "metadata": {},
   "outputs": [],
   "source": [
    "random_numbers1 = np.array([random.randint(34, 38) for i in range(10000)])\n",
    "\n",
    "list_2 = np.array([random.randint(2, 30) for i in range(10001)])\n",
    "# This calculates how the change from last step to this step of body resistance\n",
    "random_numbers_gsr = np.array([list_2[num2] - list_2[num2-1] for num2 in range(10000)])"
   ]
  },
  {
   "cell_type": "markdown",
   "id": "ae2b5446",
   "metadata": {},
   "source": [
    "## Assigning labels"
   ]
  },
  {
   "cell_type": "code",
   "execution_count": 3,
   "id": "6d4865f0",
   "metadata": {},
   "outputs": [],
   "source": [
    "# Defining labels\n",
    "labels = np.array(['OK' if temp<38 and value<5 else 'WARNING' for temp,value in zip(random_numbers1,random_numbers_gsr)])\n",
    "#labels_gsr = np.array(['OK' if value<10 else 'WARNING' for value in random_numbers_gsr])\n",
    "\n",
    "# Combining the two labels\n",
    "temp_data = random_numbers1.reshape(-1,1)\n",
    "gsr_data = random_numbers_gsr.reshape(-1,1)\n",
    "\n",
    "Sensor_data = np.hstack([temp_data,gsr_data])"
   ]
  },
  {
   "cell_type": "code",
   "execution_count": 4,
   "id": "fd4ed6ce",
   "metadata": {},
   "outputs": [],
   "source": [
    "# Splitting dataset into training and testing\n",
    "X_train, X_test, y_train, y_test = train_test_split(Sensor_data, labels, test_size=0.6, random_state=42)\n"
   ]
  },
  {
   "cell_type": "code",
   "execution_count": 5,
   "id": "54fa432a",
   "metadata": {},
   "outputs": [
    {
     "data": {
      "text/html": [
       "<style>#sk-container-id-1 {color: black;}#sk-container-id-1 pre{padding: 0;}#sk-container-id-1 div.sk-toggleable {background-color: white;}#sk-container-id-1 label.sk-toggleable__label {cursor: pointer;display: block;width: 100%;margin-bottom: 0;padding: 0.3em;box-sizing: border-box;text-align: center;}#sk-container-id-1 label.sk-toggleable__label-arrow:before {content: \"▸\";float: left;margin-right: 0.25em;color: #696969;}#sk-container-id-1 label.sk-toggleable__label-arrow:hover:before {color: black;}#sk-container-id-1 div.sk-estimator:hover label.sk-toggleable__label-arrow:before {color: black;}#sk-container-id-1 div.sk-toggleable__content {max-height: 0;max-width: 0;overflow: hidden;text-align: left;background-color: #f0f8ff;}#sk-container-id-1 div.sk-toggleable__content pre {margin: 0.2em;color: black;border-radius: 0.25em;background-color: #f0f8ff;}#sk-container-id-1 input.sk-toggleable__control:checked~div.sk-toggleable__content {max-height: 200px;max-width: 100%;overflow: auto;}#sk-container-id-1 input.sk-toggleable__control:checked~label.sk-toggleable__label-arrow:before {content: \"▾\";}#sk-container-id-1 div.sk-estimator input.sk-toggleable__control:checked~label.sk-toggleable__label {background-color: #d4ebff;}#sk-container-id-1 div.sk-label input.sk-toggleable__control:checked~label.sk-toggleable__label {background-color: #d4ebff;}#sk-container-id-1 input.sk-hidden--visually {border: 0;clip: rect(1px 1px 1px 1px);clip: rect(1px, 1px, 1px, 1px);height: 1px;margin: -1px;overflow: hidden;padding: 0;position: absolute;width: 1px;}#sk-container-id-1 div.sk-estimator {font-family: monospace;background-color: #f0f8ff;border: 1px dotted black;border-radius: 0.25em;box-sizing: border-box;margin-bottom: 0.5em;}#sk-container-id-1 div.sk-estimator:hover {background-color: #d4ebff;}#sk-container-id-1 div.sk-parallel-item::after {content: \"\";width: 100%;border-bottom: 1px solid gray;flex-grow: 1;}#sk-container-id-1 div.sk-label:hover label.sk-toggleable__label {background-color: #d4ebff;}#sk-container-id-1 div.sk-serial::before {content: \"\";position: absolute;border-left: 1px solid gray;box-sizing: border-box;top: 0;bottom: 0;left: 50%;z-index: 0;}#sk-container-id-1 div.sk-serial {display: flex;flex-direction: column;align-items: center;background-color: white;padding-right: 0.2em;padding-left: 0.2em;position: relative;}#sk-container-id-1 div.sk-item {position: relative;z-index: 1;}#sk-container-id-1 div.sk-parallel {display: flex;align-items: stretch;justify-content: center;background-color: white;position: relative;}#sk-container-id-1 div.sk-item::before, #sk-container-id-1 div.sk-parallel-item::before {content: \"\";position: absolute;border-left: 1px solid gray;box-sizing: border-box;top: 0;bottom: 0;left: 50%;z-index: -1;}#sk-container-id-1 div.sk-parallel-item {display: flex;flex-direction: column;z-index: 1;position: relative;background-color: white;}#sk-container-id-1 div.sk-parallel-item:first-child::after {align-self: flex-end;width: 50%;}#sk-container-id-1 div.sk-parallel-item:last-child::after {align-self: flex-start;width: 50%;}#sk-container-id-1 div.sk-parallel-item:only-child::after {width: 0;}#sk-container-id-1 div.sk-dashed-wrapped {border: 1px dashed gray;margin: 0 0.4em 0.5em 0.4em;box-sizing: border-box;padding-bottom: 0.4em;background-color: white;}#sk-container-id-1 div.sk-label label {font-family: monospace;font-weight: bold;display: inline-block;line-height: 1.2em;}#sk-container-id-1 div.sk-label-container {text-align: center;}#sk-container-id-1 div.sk-container {/* jupyter's `normalize.less` sets `[hidden] { display: none; }` but bootstrap.min.css set `[hidden] { display: none !important; }` so we also need the `!important` here to be able to override the default hidden behavior on the sphinx rendered scikit-learn.org. See: https://github.com/scikit-learn/scikit-learn/issues/21755 */display: inline-block !important;position: relative;}#sk-container-id-1 div.sk-text-repr-fallback {display: none;}</style><div id=\"sk-container-id-1\" class=\"sk-top-container\"><div class=\"sk-text-repr-fallback\"><pre>Pipeline(steps=[(&#x27;standardscaler&#x27;, StandardScaler()),\n",
       "                (&#x27;svc&#x27;, SVC(gamma=&#x27;auto&#x27;))])</pre><b>In a Jupyter environment, please rerun this cell to show the HTML representation or trust the notebook. <br />On GitHub, the HTML representation is unable to render, please try loading this page with nbviewer.org.</b></div><div class=\"sk-container\" hidden><div class=\"sk-item sk-dashed-wrapped\"><div class=\"sk-label-container\"><div class=\"sk-label sk-toggleable\"><input class=\"sk-toggleable__control sk-hidden--visually\" id=\"sk-estimator-id-1\" type=\"checkbox\" ><label for=\"sk-estimator-id-1\" class=\"sk-toggleable__label sk-toggleable__label-arrow\">Pipeline</label><div class=\"sk-toggleable__content\"><pre>Pipeline(steps=[(&#x27;standardscaler&#x27;, StandardScaler()),\n",
       "                (&#x27;svc&#x27;, SVC(gamma=&#x27;auto&#x27;))])</pre></div></div></div><div class=\"sk-serial\"><div class=\"sk-item\"><div class=\"sk-estimator sk-toggleable\"><input class=\"sk-toggleable__control sk-hidden--visually\" id=\"sk-estimator-id-2\" type=\"checkbox\" ><label for=\"sk-estimator-id-2\" class=\"sk-toggleable__label sk-toggleable__label-arrow\">StandardScaler</label><div class=\"sk-toggleable__content\"><pre>StandardScaler()</pre></div></div></div><div class=\"sk-item\"><div class=\"sk-estimator sk-toggleable\"><input class=\"sk-toggleable__control sk-hidden--visually\" id=\"sk-estimator-id-3\" type=\"checkbox\" ><label for=\"sk-estimator-id-3\" class=\"sk-toggleable__label sk-toggleable__label-arrow\">SVC</label><div class=\"sk-toggleable__content\"><pre>SVC(gamma=&#x27;auto&#x27;)</pre></div></div></div></div></div></div></div>"
      ],
      "text/plain": [
       "Pipeline(steps=[('standardscaler', StandardScaler()),\n",
       "                ('svc', SVC(gamma='auto'))])"
      ]
     },
     "execution_count": 5,
     "metadata": {},
     "output_type": "execute_result"
    }
   ],
   "source": [
    "# StandardScaler scales mean to be 0 and variance =1\n",
    "clf = make_pipeline(StandardScaler(), SVC(gamma='auto'))\n",
    "\n",
    "# training model\n",
    "clf.fit(X_train,y_train)"
   ]
  },
  {
   "cell_type": "markdown",
   "id": "826a90c5",
   "metadata": {},
   "source": [
    "## Prediction step"
   ]
  },
  {
   "cell_type": "code",
   "execution_count": 8,
   "id": "544b4621",
   "metadata": {},
   "outputs": [
    {
     "data": {
      "text/plain": [
       "array(['WARNING', 'OK', 'OK', ..., 'WARNING', 'OK', 'OK'], dtype='<U7')"
      ]
     },
     "execution_count": 8,
     "metadata": {},
     "output_type": "execute_result"
    }
   ],
   "source": [
    "clf.predict(X_test)"
   ]
  },
  {
   "cell_type": "code",
   "execution_count": 7,
   "id": "0e80ef5b",
   "metadata": {},
   "outputs": [],
   "source": [
    "with open('svm_model.pkl', 'wb') as f:\n",
    "    pickle.dump(clf, f)\n"
   ]
  },
  {
   "cell_type": "code",
   "execution_count": null,
   "id": "119af31a",
   "metadata": {},
   "outputs": [],
   "source": []
  }
 ],
 "metadata": {
  "kernelspec": {
   "display_name": "Python 3 (ipykernel)",
   "language": "python",
   "name": "python3"
  },
  "language_info": {
   "codemirror_mode": {
    "name": "ipython",
    "version": 3
   },
   "file_extension": ".py",
   "mimetype": "text/x-python",
   "name": "python",
   "nbconvert_exporter": "python",
   "pygments_lexer": "ipython3",
   "version": "3.11.5"
  }
 },
 "nbformat": 4,
 "nbformat_minor": 5
}
